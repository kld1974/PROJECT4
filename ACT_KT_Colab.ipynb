{
  "cells": [
    {
      "cell_type": "code",
      "source": [
        "# Install if errors occur.  First run this cell, then reset runtime and start run from cell below.\n",
        "!pip install --force-reinstall 'sqlalchemy<2.0.0'"
      ],
      "metadata": {
        "id": "z81mknzq-vu_",
        "outputId": "0b7a07b6-2efa-40d3-b1ea-9bbcc06a3662",
        "colab": {
          "base_uri": "https://localhost:8080/"
        }
      },
      "execution_count": 1,
      "outputs": [
        {
          "output_type": "stream",
          "name": "stdout",
          "text": [
            "Collecting sqlalchemy<2.0.0\n",
            "  Downloading SQLAlchemy-1.4.49-cp310-cp310-manylinux_2_5_x86_64.manylinux1_x86_64.manylinux_2_17_x86_64.manylinux2014_x86_64.whl (1.6 MB)\n",
            "\u001b[2K     \u001b[90m━━━━━━━━━━━━━━━━━━━━━━━━━━━━━━━━━━━━━━━━\u001b[0m \u001b[32m1.6/1.6 MB\u001b[0m \u001b[31m9.7 MB/s\u001b[0m eta \u001b[36m0:00:00\u001b[0m\n",
            "\u001b[?25hCollecting greenlet!=0.4.17 (from sqlalchemy<2.0.0)\n",
            "  Downloading greenlet-2.0.2-cp310-cp310-manylinux_2_17_x86_64.manylinux2014_x86_64.whl (613 kB)\n",
            "\u001b[2K     \u001b[90m━━━━━━━━━━━━━━━━━━━━━━━━━━━━━━━━━━━━━━━\u001b[0m \u001b[32m613.7/613.7 kB\u001b[0m \u001b[31m9.6 MB/s\u001b[0m eta \u001b[36m0:00:00\u001b[0m\n",
            "\u001b[?25hInstalling collected packages: greenlet, sqlalchemy\n",
            "  Attempting uninstall: greenlet\n",
            "    Found existing installation: greenlet 2.0.2\n",
            "    Uninstalling greenlet-2.0.2:\n",
            "      Successfully uninstalled greenlet-2.0.2\n",
            "  Attempting uninstall: sqlalchemy\n",
            "    Found existing installation: SQLAlchemy 2.0.19\n",
            "    Uninstalling SQLAlchemy-2.0.19:\n",
            "      Successfully uninstalled SQLAlchemy-2.0.19\n",
            "Successfully installed greenlet-2.0.2 sqlalchemy-1.4.49\n"
          ]
        }
      ]
    },
    {
      "cell_type": "code",
      "execution_count": 2,
      "metadata": {
        "id": "sw2Jr5lXFWIH"
      },
      "outputs": [],
      "source": [
        "import os\n"
      ]
    },
    {
      "cell_type": "code",
      "source": [
        "from google.colab import drive\n",
        "drive.mount('/content/drive')"
      ],
      "metadata": {
        "id": "fdh5b8y8u4MX",
        "colab": {
          "base_uri": "https://localhost:8080/"
        },
        "outputId": "9a888a4a-65e4-4e0c-ef2c-ec115b2ec59e"
      },
      "execution_count": 3,
      "outputs": [
        {
          "output_type": "stream",
          "name": "stdout",
          "text": [
            "Mounted at /content/drive\n"
          ]
        }
      ]
    },
    {
      "cell_type": "code",
      "source": [
        "import pandas as pd\n",
        "from sqlalchemy import create_engine, text\n",
        "\n",
        "# Create an engine object\n",
        "engine = create_engine('sqlite:///drive/MyDrive/schools_db', echo=False)\n",
        "connection = engine\n",
        "\n",
        "# Fetch all records from schools table\n",
        "df = pd.read_sql_table('schools', connection)\n",
        "print(df.head())\n",
        "\n",
        "# Close the Database connection\n",
        "engine.dispose()"
      ],
      "metadata": {
        "colab": {
          "base_uri": "https://localhost:8080/"
        },
        "id": "NrTQDPID620o",
        "outputId": "cdeaf793-c3e2-4f32-89a1-345dd851eef9"
      },
      "execution_count": 4,
      "outputs": [
        {
          "output_type": "stream",
          "name": "stdout",
          "text": [
            "       ID                                 Name    State     Region  \\\n",
            "0  100654             Alabama A & M University  Alabama  Southeast   \n",
            "1  100663  University of Alabama at Birmingham  Alabama  Southeast   \n",
            "2  100706  University of Alabama in Huntsville  Alabama  Southeast   \n",
            "3  100724             Alabama State University  Alabama  Southeast   \n",
            "4  100751            The University of Alabama  Alabama  Southeast   \n",
            "\n",
            "   Applications  Admissions  Admission_Rate  Enrollment  SAT_Verbal_75  \\\n",
            "0          6560        4697        0.716006        1459            520   \n",
            "1         11906       10541        0.885352        2361            680   \n",
            "2          5781        4259        0.736724        1191            700   \n",
            "3          5974        5854        0.979913         797            534   \n",
            "4         42421       33472        0.789043        7540            680   \n",
            "\n",
            "   SAT_Math_75  ACT_English_75  ACT_Math_75  \n",
            "0          510              20           18  \n",
            "1          708              33           28  \n",
            "2          720              32           29  \n",
            "3          516              22           19  \n",
            "4          690              33           28  \n"
          ]
        }
      ]
    },
    {
      "cell_type": "code",
      "source": [
        "!pip install keras-tuner"
      ],
      "metadata": {
        "id": "R3HcAm3LUW9N",
        "outputId": "b99cd885-6bfa-4687-eba8-c5cb7cb3187f",
        "colab": {
          "base_uri": "https://localhost:8080/"
        }
      },
      "execution_count": 5,
      "outputs": [
        {
          "output_type": "stream",
          "name": "stdout",
          "text": [
            "Collecting keras-tuner\n",
            "  Downloading keras_tuner-1.3.5-py3-none-any.whl (176 kB)\n",
            "\u001b[2K     \u001b[90m━━━━━━━━━━━━━━━━━━━━━━━━━━━━━━━━━━━━━━━\u001b[0m \u001b[32m176.1/176.1 kB\u001b[0m \u001b[31m2.3 MB/s\u001b[0m eta \u001b[36m0:00:00\u001b[0m\n",
            "\u001b[?25hRequirement already satisfied: packaging in /usr/local/lib/python3.10/dist-packages (from keras-tuner) (23.1)\n",
            "Requirement already satisfied: requests in /usr/local/lib/python3.10/dist-packages (from keras-tuner) (2.27.1)\n",
            "Collecting kt-legacy (from keras-tuner)\n",
            "  Downloading kt_legacy-1.0.5-py3-none-any.whl (9.6 kB)\n",
            "Requirement already satisfied: urllib3<1.27,>=1.21.1 in /usr/local/lib/python3.10/dist-packages (from requests->keras-tuner) (1.26.16)\n",
            "Requirement already satisfied: certifi>=2017.4.17 in /usr/local/lib/python3.10/dist-packages (from requests->keras-tuner) (2023.7.22)\n",
            "Requirement already satisfied: charset-normalizer~=2.0.0 in /usr/local/lib/python3.10/dist-packages (from requests->keras-tuner) (2.0.12)\n",
            "Requirement already satisfied: idna<4,>=2.5 in /usr/local/lib/python3.10/dist-packages (from requests->keras-tuner) (3.4)\n",
            "Installing collected packages: kt-legacy, keras-tuner\n",
            "Successfully installed keras-tuner-1.3.5 kt-legacy-1.0.5\n"
          ]
        }
      ]
    },
    {
      "cell_type": "code",
      "source": [
        "from sklearn.model_selection import train_test_split\n",
        "from sklearn.preprocessing import StandardScaler\n",
        "import pandas as pd\n",
        "import tensorflow as tf\n",
        "\n",
        "#  Import and read the charity_data.csv.\n",
        "import pandas as pd\n",
        "df.dtypes"
      ],
      "metadata": {
        "id": "cYZiPttsUW6G",
        "outputId": "908b05c3-111c-408c-c86f-ace493a3f66c",
        "colab": {
          "base_uri": "https://localhost:8080/"
        }
      },
      "execution_count": 6,
      "outputs": [
        {
          "output_type": "execute_result",
          "data": {
            "text/plain": [
              "ID                  int64\n",
              "Name               object\n",
              "State              object\n",
              "Region             object\n",
              "Applications        int64\n",
              "Admissions          int64\n",
              "Admission_Rate    float64\n",
              "Enrollment          int64\n",
              "SAT_Verbal_75       int64\n",
              "SAT_Math_75         int64\n",
              "ACT_English_75      int64\n",
              "ACT_Math_75         int64\n",
              "dtype: object"
            ]
          },
          "metadata": {},
          "execution_count": 6
        }
      ]
    },
    {
      "cell_type": "code",
      "source": [
        "# Drop the non-beneficial ID columns, 'ACT_English_75' and 'ACT_Math_75 '.\n",
        "df = df.drop(columns = ['SAT_Math_75', 'SAT_Verbal_75', 'Name', 'ID', 'Admissions', 'Applications'])"
      ],
      "metadata": {
        "id": "mFe2_Ru7UW3Q"
      },
      "execution_count": 7,
      "outputs": []
    },
    {
      "cell_type": "code",
      "source": [
        "# Look at State value counts for binning\n",
        "\n",
        "state_count = df['State'].value_counts()\n",
        "state_count"
      ],
      "metadata": {
        "id": "gGsGD9eNUWz1",
        "outputId": "c154d6ca-2901-4599-f596-b77efcbc8101",
        "colab": {
          "base_uri": "https://localhost:8080/"
        }
      },
      "execution_count": 8,
      "outputs": [
        {
          "output_type": "execute_result",
          "data": {
            "text/plain": [
              "New York                121\n",
              "Pennsylvania             93\n",
              "California               84\n",
              "Texas                    67\n",
              "Massachusetts            59\n",
              "Illinois                 51\n",
              "Ohio                     51\n",
              "North Carolina           49\n",
              "Florida                  42\n",
              "Georgia                  42\n",
              "Indiana                  40\n",
              "Virginia                 39\n",
              "Michigan                 39\n",
              "Wisconsin                34\n",
              "Missouri                 34\n",
              "Minnesota                33\n",
              "Tennessee                32\n",
              "South Carolina           30\n",
              "New Jersey               27\n",
              "Iowa                     26\n",
              "Kentucky                 24\n",
              "Alabama                  22\n",
              "Connecticut              22\n",
              "Kansas                   21\n",
              "Maryland                 20\n",
              "Louisiana                19\n",
              "Washington               18\n",
              "Oregon                   17\n",
              "Arkansas                 16\n",
              "West Virginia            15\n",
              "Oklahoma                 15\n",
              "Colorado                 15\n",
              "Mississippi              14\n",
              "Maine                    13\n",
              "Nebraska                 11\n",
              "New Hampshire            10\n",
              "Rhode Island             10\n",
              "South Dakota             10\n",
              "Vermont                   9\n",
              "North Dakota              8\n",
              "Arizona                   7\n",
              "District of Columbia      7\n",
              "Hawaii                    6\n",
              "Montana                   6\n",
              "Idaho                     6\n",
              "Utah                      6\n",
              "New Mexico                5\n",
              "Alaska                    3\n",
              "Delaware                  3\n",
              "Nevada                    3\n",
              "Wyoming                   1\n",
              "Name: State, dtype: int64"
            ]
          },
          "metadata": {},
          "execution_count": 8
        }
      ]
    },
    {
      "cell_type": "code",
      "source": [
        "# Choose a cutoff value and create a list of states to be replaced\n",
        "# use the variable name `state_counts_to_replace`\n",
        "state_counts_to_replace = list(state_count[state_count<5].index)\n",
        "state_counts_to_replace"
      ],
      "metadata": {
        "id": "3Ojmk7afUWwt",
        "outputId": "cd6ffb92-1b7b-4cd6-992b-0c853f61f07a",
        "colab": {
          "base_uri": "https://localhost:8080/"
        }
      },
      "execution_count": 9,
      "outputs": [
        {
          "output_type": "execute_result",
          "data": {
            "text/plain": [
              "['Alaska', 'Delaware', 'Nevada', 'Wyoming']"
            ]
          },
          "metadata": {},
          "execution_count": 9
        }
      ]
    },
    {
      "cell_type": "code",
      "source": [
        "# Replace in dataframe\n",
        "for sta in state_counts_to_replace:\n",
        "    df['State'] = df['State'].replace(sta,\"Other\")\n",
        "\n",
        "# Check to make sure binning was successful\n",
        "df['State'].value_counts()"
      ],
      "metadata": {
        "id": "YWtlmXrXUWtm",
        "outputId": "b914f711-b98d-4cd2-8e1c-64fad7968ca4",
        "colab": {
          "base_uri": "https://localhost:8080/"
        }
      },
      "execution_count": 10,
      "outputs": [
        {
          "output_type": "execute_result",
          "data": {
            "text/plain": [
              "New York                121\n",
              "Pennsylvania             93\n",
              "California               84\n",
              "Texas                    67\n",
              "Massachusetts            59\n",
              "Ohio                     51\n",
              "Illinois                 51\n",
              "North Carolina           49\n",
              "Florida                  42\n",
              "Georgia                  42\n",
              "Indiana                  40\n",
              "Michigan                 39\n",
              "Virginia                 39\n",
              "Missouri                 34\n",
              "Wisconsin                34\n",
              "Minnesota                33\n",
              "Tennessee                32\n",
              "South Carolina           30\n",
              "New Jersey               27\n",
              "Iowa                     26\n",
              "Kentucky                 24\n",
              "Alabama                  22\n",
              "Connecticut              22\n",
              "Kansas                   21\n",
              "Maryland                 20\n",
              "Louisiana                19\n",
              "Washington               18\n",
              "Oregon                   17\n",
              "Arkansas                 16\n",
              "West Virginia            15\n",
              "Oklahoma                 15\n",
              "Colorado                 15\n",
              "Mississippi              14\n",
              "Maine                    13\n",
              "Nebraska                 11\n",
              "South Dakota             10\n",
              "Other                    10\n",
              "New Hampshire            10\n",
              "Rhode Island             10\n",
              "Vermont                   9\n",
              "North Dakota              8\n",
              "District of Columbia      7\n",
              "Arizona                   7\n",
              "Hawaii                    6\n",
              "Utah                      6\n",
              "Idaho                     6\n",
              "Montana                   6\n",
              "New Mexico                5\n",
              "Name: State, dtype: int64"
            ]
          },
          "metadata": {},
          "execution_count": 10
        }
      ]
    },
    {
      "cell_type": "code",
      "source": [
        "# Determine the number of unique values in each column.\n",
        "for x in df.columns:\n",
        "    print(x, len(df[x].unique()))"
      ],
      "metadata": {
        "id": "m4yAu8R9UWqM",
        "outputId": "aca81120-1a16-4c55-fe19-cd5ad12604be",
        "colab": {
          "base_uri": "https://localhost:8080/"
        }
      },
      "execution_count": 11,
      "outputs": [
        {
          "output_type": "stream",
          "name": "stdout",
          "text": [
            "State 48\n",
            "Region 8\n",
            "Admission_Rate 1353\n",
            "Enrollment 920\n",
            "ACT_English_75 23\n",
            "ACT_Math_75 24\n"
          ]
        }
      ]
    },
    {
      "cell_type": "code",
      "source": [
        "# Look at Regions value counts for binning\n",
        "regionbinning = df['Region'].value_counts()"
      ],
      "metadata": {
        "id": "csom62QBUWgk"
      },
      "execution_count": 12,
      "outputs": []
    },
    {
      "cell_type": "code",
      "source": [
        "# You may find it helpful to look at Regions value counts >1\n",
        "regionclassification = regionbinning[regionbinning>1]\n",
        "regionclassification"
      ],
      "metadata": {
        "id": "ihUmQ-uXVdgH",
        "colab": {
          "base_uri": "https://localhost:8080/"
        },
        "outputId": "b5c8a7aa-49ae-4552-e948-d25e24192e29"
      },
      "execution_count": null,
      "outputs": [
        {
          "output_type": "execute_result",
          "data": {
            "text/plain": [
              "Southeast          344\n",
              "Mid East           271\n",
              "Great Lakes        215\n",
              "Plains             143\n",
              "Far West           131\n",
              "New England        123\n",
              "Southwest           94\n",
              "Rocky Mountains     34\n",
              "Name: Region, dtype: int64"
            ]
          },
          "metadata": {},
          "execution_count": 14
        }
      ]
    },
    {
      "cell_type": "code",
      "source": [
        "# Choose a cutoff value and create a list of regions to be replaced\n",
        "# use the variable name `regions_to_replace`\n",
        "regions_to_replace = list (regionbinning[regionbinning<30].index)\n",
        "regions_to_replace\n",
        "\n",
        "# Replace in dataframe\n",
        "for rgn in regions_to_replace:\n",
        "    df['Region'] = df['Region'].replace(rgn,\"Other\")\n",
        "\n",
        "# Check to make sure binning was successful\n",
        "df['Region'].value_counts()"
      ],
      "metadata": {
        "id": "RihK_seXVdcu",
        "colab": {
          "base_uri": "https://localhost:8080/"
        },
        "outputId": "0bb51daf-433c-4f61-df01-8dd507b19f03"
      },
      "execution_count": 13,
      "outputs": [
        {
          "output_type": "execute_result",
          "data": {
            "text/plain": [
              "Southeast          344\n",
              "Mid East           271\n",
              "Great Lakes        215\n",
              "Plains             143\n",
              "Far West           131\n",
              "New England        123\n",
              "Southwest           94\n",
              "Rocky Mountains     34\n",
              "Name: Region, dtype: int64"
            ]
          },
          "metadata": {},
          "execution_count": 13
        }
      ]
    },
    {
      "cell_type": "code",
      "source": [
        "# Convert categorical data to numeric with `pd.get_dummies`\n",
        "df = pd.get_dummies(df,dtype=float)\n",
        "df.head()"
      ],
      "metadata": {
        "id": "OEoEqjwIVdY0",
        "outputId": "314bfefd-f33d-45ea-c364-119b836d9204",
        "colab": {
          "base_uri": "https://localhost:8080/",
          "height": 317
        }
      },
      "execution_count": 14,
      "outputs": [
        {
          "output_type": "execute_result",
          "data": {
            "text/plain": [
              "   Admission_Rate  Enrollment  ACT_English_75  ACT_Math_75  State_Alabama  \\\n",
              "0        0.716006        1459              20           18            1.0   \n",
              "1        0.885352        2361              33           28            1.0   \n",
              "2        0.736724        1191              32           29            1.0   \n",
              "3        0.979913         797              22           19            1.0   \n",
              "4        0.789043        7540              33           28            1.0   \n",
              "\n",
              "   State_Arizona  State_Arkansas  State_California  State_Colorado  \\\n",
              "0            0.0             0.0               0.0             0.0   \n",
              "1            0.0             0.0               0.0             0.0   \n",
              "2            0.0             0.0               0.0             0.0   \n",
              "3            0.0             0.0               0.0             0.0   \n",
              "4            0.0             0.0               0.0             0.0   \n",
              "\n",
              "   State_Connecticut  ...  State_West Virginia  State_Wisconsin  \\\n",
              "0                0.0  ...                  0.0              0.0   \n",
              "1                0.0  ...                  0.0              0.0   \n",
              "2                0.0  ...                  0.0              0.0   \n",
              "3                0.0  ...                  0.0              0.0   \n",
              "4                0.0  ...                  0.0              0.0   \n",
              "\n",
              "   Region_Far West  Region_Great Lakes  Region_Mid East  Region_New England  \\\n",
              "0              0.0                 0.0              0.0                 0.0   \n",
              "1              0.0                 0.0              0.0                 0.0   \n",
              "2              0.0                 0.0              0.0                 0.0   \n",
              "3              0.0                 0.0              0.0                 0.0   \n",
              "4              0.0                 0.0              0.0                 0.0   \n",
              "\n",
              "   Region_Plains  Region_Rocky Mountains  Region_Southeast  Region_Southwest  \n",
              "0            0.0                     0.0               1.0               0.0  \n",
              "1            0.0                     0.0               1.0               0.0  \n",
              "2            0.0                     0.0               1.0               0.0  \n",
              "3            0.0                     0.0               1.0               0.0  \n",
              "4            0.0                     0.0               1.0               0.0  \n",
              "\n",
              "[5 rows x 60 columns]"
            ],
            "text/html": [
              "\n",
              "\n",
              "  <div id=\"df-8a627562-62e2-4747-991c-ab03708705bd\">\n",
              "    <div class=\"colab-df-container\">\n",
              "      <div>\n",
              "<style scoped>\n",
              "    .dataframe tbody tr th:only-of-type {\n",
              "        vertical-align: middle;\n",
              "    }\n",
              "\n",
              "    .dataframe tbody tr th {\n",
              "        vertical-align: top;\n",
              "    }\n",
              "\n",
              "    .dataframe thead th {\n",
              "        text-align: right;\n",
              "    }\n",
              "</style>\n",
              "<table border=\"1\" class=\"dataframe\">\n",
              "  <thead>\n",
              "    <tr style=\"text-align: right;\">\n",
              "      <th></th>\n",
              "      <th>Admission_Rate</th>\n",
              "      <th>Enrollment</th>\n",
              "      <th>ACT_English_75</th>\n",
              "      <th>ACT_Math_75</th>\n",
              "      <th>State_Alabama</th>\n",
              "      <th>State_Arizona</th>\n",
              "      <th>State_Arkansas</th>\n",
              "      <th>State_California</th>\n",
              "      <th>State_Colorado</th>\n",
              "      <th>State_Connecticut</th>\n",
              "      <th>...</th>\n",
              "      <th>State_West Virginia</th>\n",
              "      <th>State_Wisconsin</th>\n",
              "      <th>Region_Far West</th>\n",
              "      <th>Region_Great Lakes</th>\n",
              "      <th>Region_Mid East</th>\n",
              "      <th>Region_New England</th>\n",
              "      <th>Region_Plains</th>\n",
              "      <th>Region_Rocky Mountains</th>\n",
              "      <th>Region_Southeast</th>\n",
              "      <th>Region_Southwest</th>\n",
              "    </tr>\n",
              "  </thead>\n",
              "  <tbody>\n",
              "    <tr>\n",
              "      <th>0</th>\n",
              "      <td>0.716006</td>\n",
              "      <td>1459</td>\n",
              "      <td>20</td>\n",
              "      <td>18</td>\n",
              "      <td>1.0</td>\n",
              "      <td>0.0</td>\n",
              "      <td>0.0</td>\n",
              "      <td>0.0</td>\n",
              "      <td>0.0</td>\n",
              "      <td>0.0</td>\n",
              "      <td>...</td>\n",
              "      <td>0.0</td>\n",
              "      <td>0.0</td>\n",
              "      <td>0.0</td>\n",
              "      <td>0.0</td>\n",
              "      <td>0.0</td>\n",
              "      <td>0.0</td>\n",
              "      <td>0.0</td>\n",
              "      <td>0.0</td>\n",
              "      <td>1.0</td>\n",
              "      <td>0.0</td>\n",
              "    </tr>\n",
              "    <tr>\n",
              "      <th>1</th>\n",
              "      <td>0.885352</td>\n",
              "      <td>2361</td>\n",
              "      <td>33</td>\n",
              "      <td>28</td>\n",
              "      <td>1.0</td>\n",
              "      <td>0.0</td>\n",
              "      <td>0.0</td>\n",
              "      <td>0.0</td>\n",
              "      <td>0.0</td>\n",
              "      <td>0.0</td>\n",
              "      <td>...</td>\n",
              "      <td>0.0</td>\n",
              "      <td>0.0</td>\n",
              "      <td>0.0</td>\n",
              "      <td>0.0</td>\n",
              "      <td>0.0</td>\n",
              "      <td>0.0</td>\n",
              "      <td>0.0</td>\n",
              "      <td>0.0</td>\n",
              "      <td>1.0</td>\n",
              "      <td>0.0</td>\n",
              "    </tr>\n",
              "    <tr>\n",
              "      <th>2</th>\n",
              "      <td>0.736724</td>\n",
              "      <td>1191</td>\n",
              "      <td>32</td>\n",
              "      <td>29</td>\n",
              "      <td>1.0</td>\n",
              "      <td>0.0</td>\n",
              "      <td>0.0</td>\n",
              "      <td>0.0</td>\n",
              "      <td>0.0</td>\n",
              "      <td>0.0</td>\n",
              "      <td>...</td>\n",
              "      <td>0.0</td>\n",
              "      <td>0.0</td>\n",
              "      <td>0.0</td>\n",
              "      <td>0.0</td>\n",
              "      <td>0.0</td>\n",
              "      <td>0.0</td>\n",
              "      <td>0.0</td>\n",
              "      <td>0.0</td>\n",
              "      <td>1.0</td>\n",
              "      <td>0.0</td>\n",
              "    </tr>\n",
              "    <tr>\n",
              "      <th>3</th>\n",
              "      <td>0.979913</td>\n",
              "      <td>797</td>\n",
              "      <td>22</td>\n",
              "      <td>19</td>\n",
              "      <td>1.0</td>\n",
              "      <td>0.0</td>\n",
              "      <td>0.0</td>\n",
              "      <td>0.0</td>\n",
              "      <td>0.0</td>\n",
              "      <td>0.0</td>\n",
              "      <td>...</td>\n",
              "      <td>0.0</td>\n",
              "      <td>0.0</td>\n",
              "      <td>0.0</td>\n",
              "      <td>0.0</td>\n",
              "      <td>0.0</td>\n",
              "      <td>0.0</td>\n",
              "      <td>0.0</td>\n",
              "      <td>0.0</td>\n",
              "      <td>1.0</td>\n",
              "      <td>0.0</td>\n",
              "    </tr>\n",
              "    <tr>\n",
              "      <th>4</th>\n",
              "      <td>0.789043</td>\n",
              "      <td>7540</td>\n",
              "      <td>33</td>\n",
              "      <td>28</td>\n",
              "      <td>1.0</td>\n",
              "      <td>0.0</td>\n",
              "      <td>0.0</td>\n",
              "      <td>0.0</td>\n",
              "      <td>0.0</td>\n",
              "      <td>0.0</td>\n",
              "      <td>...</td>\n",
              "      <td>0.0</td>\n",
              "      <td>0.0</td>\n",
              "      <td>0.0</td>\n",
              "      <td>0.0</td>\n",
              "      <td>0.0</td>\n",
              "      <td>0.0</td>\n",
              "      <td>0.0</td>\n",
              "      <td>0.0</td>\n",
              "      <td>1.0</td>\n",
              "      <td>0.0</td>\n",
              "    </tr>\n",
              "  </tbody>\n",
              "</table>\n",
              "<p>5 rows × 60 columns</p>\n",
              "</div>\n",
              "      <button class=\"colab-df-convert\" onclick=\"convertToInteractive('df-8a627562-62e2-4747-991c-ab03708705bd')\"\n",
              "              title=\"Convert this dataframe to an interactive table.\"\n",
              "              style=\"display:none;\">\n",
              "\n",
              "  <svg xmlns=\"http://www.w3.org/2000/svg\" height=\"24px\"viewBox=\"0 0 24 24\"\n",
              "       width=\"24px\">\n",
              "    <path d=\"M0 0h24v24H0V0z\" fill=\"none\"/>\n",
              "    <path d=\"M18.56 5.44l.94 2.06.94-2.06 2.06-.94-2.06-.94-.94-2.06-.94 2.06-2.06.94zm-11 1L8.5 8.5l.94-2.06 2.06-.94-2.06-.94L8.5 2.5l-.94 2.06-2.06.94zm10 10l.94 2.06.94-2.06 2.06-.94-2.06-.94-.94-2.06-.94 2.06-2.06.94z\"/><path d=\"M17.41 7.96l-1.37-1.37c-.4-.4-.92-.59-1.43-.59-.52 0-1.04.2-1.43.59L10.3 9.45l-7.72 7.72c-.78.78-.78 2.05 0 2.83L4 21.41c.39.39.9.59 1.41.59.51 0 1.02-.2 1.41-.59l7.78-7.78 2.81-2.81c.8-.78.8-2.07 0-2.86zM5.41 20L4 18.59l7.72-7.72 1.47 1.35L5.41 20z\"/>\n",
              "  </svg>\n",
              "      </button>\n",
              "\n",
              "\n",
              "\n",
              "    <div id=\"df-b7c04570-07c5-4024-8936-5bd55c8eff8f\">\n",
              "      <button class=\"colab-df-quickchart\" onclick=\"quickchart('df-b7c04570-07c5-4024-8936-5bd55c8eff8f')\"\n",
              "              title=\"Suggest charts.\"\n",
              "              style=\"display:none;\">\n",
              "\n",
              "<svg xmlns=\"http://www.w3.org/2000/svg\" height=\"24px\"viewBox=\"0 0 24 24\"\n",
              "     width=\"24px\">\n",
              "    <g>\n",
              "        <path d=\"M19 3H5c-1.1 0-2 .9-2 2v14c0 1.1.9 2 2 2h14c1.1 0 2-.9 2-2V5c0-1.1-.9-2-2-2zM9 17H7v-7h2v7zm4 0h-2V7h2v10zm4 0h-2v-4h2v4z\"/>\n",
              "    </g>\n",
              "</svg>\n",
              "      </button>\n",
              "    </div>\n",
              "\n",
              "<style>\n",
              "  .colab-df-quickchart {\n",
              "    background-color: #E8F0FE;\n",
              "    border: none;\n",
              "    border-radius: 50%;\n",
              "    cursor: pointer;\n",
              "    display: none;\n",
              "    fill: #1967D2;\n",
              "    height: 32px;\n",
              "    padding: 0 0 0 0;\n",
              "    width: 32px;\n",
              "  }\n",
              "\n",
              "  .colab-df-quickchart:hover {\n",
              "    background-color: #E2EBFA;\n",
              "    box-shadow: 0px 1px 2px rgba(60, 64, 67, 0.3), 0px 1px 3px 1px rgba(60, 64, 67, 0.15);\n",
              "    fill: #174EA6;\n",
              "  }\n",
              "\n",
              "  [theme=dark] .colab-df-quickchart {\n",
              "    background-color: #3B4455;\n",
              "    fill: #D2E3FC;\n",
              "  }\n",
              "\n",
              "  [theme=dark] .colab-df-quickchart:hover {\n",
              "    background-color: #434B5C;\n",
              "    box-shadow: 0px 1px 3px 1px rgba(0, 0, 0, 0.15);\n",
              "    filter: drop-shadow(0px 1px 2px rgba(0, 0, 0, 0.3));\n",
              "    fill: #FFFFFF;\n",
              "  }\n",
              "</style>\n",
              "\n",
              "    <script>\n",
              "      async function quickchart(key) {\n",
              "        const containerElement = document.querySelector('#' + key);\n",
              "        const charts = await google.colab.kernel.invokeFunction(\n",
              "            'suggestCharts', [key], {});\n",
              "      }\n",
              "    </script>\n",
              "\n",
              "      <script>\n",
              "\n",
              "function displayQuickchartButton(domScope) {\n",
              "  let quickchartButtonEl =\n",
              "    domScope.querySelector('#df-b7c04570-07c5-4024-8936-5bd55c8eff8f button.colab-df-quickchart');\n",
              "  quickchartButtonEl.style.display =\n",
              "    google.colab.kernel.accessAllowed ? 'block' : 'none';\n",
              "}\n",
              "\n",
              "        displayQuickchartButton(document);\n",
              "      </script>\n",
              "      <style>\n",
              "    .colab-df-container {\n",
              "      display:flex;\n",
              "      flex-wrap:wrap;\n",
              "      gap: 12px;\n",
              "    }\n",
              "\n",
              "    .colab-df-convert {\n",
              "      background-color: #E8F0FE;\n",
              "      border: none;\n",
              "      border-radius: 50%;\n",
              "      cursor: pointer;\n",
              "      display: none;\n",
              "      fill: #1967D2;\n",
              "      height: 32px;\n",
              "      padding: 0 0 0 0;\n",
              "      width: 32px;\n",
              "    }\n",
              "\n",
              "    .colab-df-convert:hover {\n",
              "      background-color: #E2EBFA;\n",
              "      box-shadow: 0px 1px 2px rgba(60, 64, 67, 0.3), 0px 1px 3px 1px rgba(60, 64, 67, 0.15);\n",
              "      fill: #174EA6;\n",
              "    }\n",
              "\n",
              "    [theme=dark] .colab-df-convert {\n",
              "      background-color: #3B4455;\n",
              "      fill: #D2E3FC;\n",
              "    }\n",
              "\n",
              "    [theme=dark] .colab-df-convert:hover {\n",
              "      background-color: #434B5C;\n",
              "      box-shadow: 0px 1px 3px 1px rgba(0, 0, 0, 0.15);\n",
              "      filter: drop-shadow(0px 1px 2px rgba(0, 0, 0, 0.3));\n",
              "      fill: #FFFFFF;\n",
              "    }\n",
              "  </style>\n",
              "\n",
              "      <script>\n",
              "        const buttonEl =\n",
              "          document.querySelector('#df-8a627562-62e2-4747-991c-ab03708705bd button.colab-df-convert');\n",
              "        buttonEl.style.display =\n",
              "          google.colab.kernel.accessAllowed ? 'block' : 'none';\n",
              "\n",
              "        async function convertToInteractive(key) {\n",
              "          const element = document.querySelector('#df-8a627562-62e2-4747-991c-ab03708705bd');\n",
              "          const dataTable =\n",
              "            await google.colab.kernel.invokeFunction('convertToInteractive',\n",
              "                                                     [key], {});\n",
              "          if (!dataTable) return;\n",
              "\n",
              "          const docLinkHtml = 'Like what you see? Visit the ' +\n",
              "            '<a target=\"_blank\" href=https://colab.research.google.com/notebooks/data_table.ipynb>data table notebook</a>'\n",
              "            + ' to learn more about interactive tables.';\n",
              "          element.innerHTML = '';\n",
              "          dataTable['output_type'] = 'display_data';\n",
              "          await google.colab.output.renderOutput(dataTable, element);\n",
              "          const docLink = document.createElement('div');\n",
              "          docLink.innerHTML = docLinkHtml;\n",
              "          element.appendChild(docLink);\n",
              "        }\n",
              "      </script>\n",
              "    </div>\n",
              "  </div>\n"
            ]
          },
          "metadata": {},
          "execution_count": 14
        }
      ]
    },
    {
      "cell_type": "code",
      "source": [
        "# Split our preprocessed data into our features and target arrays\n",
        "y = df['Admission_Rate'].values\n",
        "\n",
        "#drop column Admission_Rate\n",
        "X = df.drop('Admission_Rate', axis=1).values\n",
        "\n",
        "# Split the preprocessed data into a training and testing dataset\n",
        "\n",
        "X_train, X_test, y_train, y_test = train_test_split(X,y,random_state = 42)"
      ],
      "metadata": {
        "id": "U1WL7OQFVdVL"
      },
      "execution_count": 15,
      "outputs": []
    },
    {
      "cell_type": "code",
      "source": [
        "# Create a StandardScaler instances\n",
        "scaler = StandardScaler()\n",
        "\n",
        "# Fit the StandardScaler\n",
        "X_scaler = scaler.fit(X_train)\n",
        "\n",
        "# Scale the data\n",
        "X_train_scaled = X_scaler.transform(X_train)\n",
        "X_test_scaled = X_scaler.transform(X_test)"
      ],
      "metadata": {
        "id": "ucdnqc_mVqT6"
      },
      "execution_count": 16,
      "outputs": []
    },
    {
      "cell_type": "code",
      "source": [
        "# Define the model - deep neural net, i.e., the number of input features and hidden nodes for each layer.\n",
        "\n",
        "number_input_features = len( X_train_scaled[0])\n",
        "hn_layer1=7\n",
        "hn_layer2=14\n",
        "hn_layer3=21\n",
        "\n",
        "nn = tf.keras.models.Sequential()\n",
        "\n",
        "# First hidden layer\n",
        "nn.add(tf.keras.layers.Dense(units=hn_layer1, input_dim=number_input_features, activation='relu'))\n",
        "\n",
        "# Second hidden layer\n",
        "nn.add(tf.keras.layers.Dense(units=hn_layer2, activation='relu'))\n",
        "\n",
        "# third hidden layer\n",
        "nn.add(tf.keras.layers.Dense(units=hn_layer3, activation='relu'))\n",
        "\n",
        "# Output layer\n",
        "nn.add(tf.keras.layers.Dense(units=1, activation='sigmoid'))\n",
        "\n",
        "# Check the structure of the model\n",
        "nn.summary()"
      ],
      "metadata": {
        "id": "6e7NKqmtVqRE",
        "outputId": "0be8b09c-fee6-4f11-d331-79caf2aafd77",
        "colab": {
          "base_uri": "https://localhost:8080/"
        }
      },
      "execution_count": 17,
      "outputs": [
        {
          "output_type": "stream",
          "name": "stdout",
          "text": [
            "Model: \"sequential\"\n",
            "_________________________________________________________________\n",
            " Layer (type)                Output Shape              Param #   \n",
            "=================================================================\n",
            " dense (Dense)               (None, 7)                 420       \n",
            "                                                                 \n",
            " dense_1 (Dense)             (None, 14)                112       \n",
            "                                                                 \n",
            " dense_2 (Dense)             (None, 21)                315       \n",
            "                                                                 \n",
            " dense_3 (Dense)             (None, 1)                 22        \n",
            "                                                                 \n",
            "=================================================================\n",
            "Total params: 869\n",
            "Trainable params: 869\n",
            "Non-trainable params: 0\n",
            "_________________________________________________________________\n"
          ]
        }
      ]
    },
    {
      "cell_type": "code",
      "source": [
        "# Compile the model\n",
        "nn.compile(loss = 'binary_crossentropy', optimizer = 'adam', metrics=['accuracy'])"
      ],
      "metadata": {
        "id": "N1EvXk29gNtU"
      },
      "execution_count": 18,
      "outputs": []
    },
    {
      "cell_type": "code",
      "source": [
        "# Train the model\n",
        "fit_model = nn.fit(X_train_scaled,y_train,validation_split=0.15, epochs=100)"
      ],
      "metadata": {
        "id": "N3uuy2IPggj6",
        "outputId": "f77b2f66-7fed-4cfc-ec19-225ed345df9e",
        "colab": {
          "base_uri": "https://localhost:8080/"
        }
      },
      "execution_count": 19,
      "outputs": [
        {
          "output_type": "stream",
          "name": "stdout",
          "text": [
            "Epoch 1/100\n",
            "27/27 [==============================] - 2s 11ms/step - loss: 0.6293 - accuracy: 0.0023 - val_loss: 0.6212 - val_accuracy: 0.0000e+00\n",
            "Epoch 2/100\n",
            "27/27 [==============================] - 0s 4ms/step - loss: 0.5959 - accuracy: 0.0023 - val_loss: 0.6168 - val_accuracy: 0.0000e+00\n",
            "Epoch 3/100\n",
            "27/27 [==============================] - 0s 4ms/step - loss: 0.5874 - accuracy: 0.0023 - val_loss: 0.6141 - val_accuracy: 0.0000e+00\n",
            "Epoch 4/100\n",
            "27/27 [==============================] - 0s 4ms/step - loss: 0.5824 - accuracy: 0.0023 - val_loss: 0.6126 - val_accuracy: 0.0000e+00\n",
            "Epoch 5/100\n",
            "27/27 [==============================] - 0s 4ms/step - loss: 0.5793 - accuracy: 0.0023 - val_loss: 0.6127 - val_accuracy: 0.0000e+00\n",
            "Epoch 6/100\n",
            "27/27 [==============================] - 0s 4ms/step - loss: 0.5769 - accuracy: 0.0023 - val_loss: 0.6103 - val_accuracy: 0.0000e+00\n",
            "Epoch 7/100\n",
            "27/27 [==============================] - 0s 4ms/step - loss: 0.5757 - accuracy: 0.0023 - val_loss: 0.6105 - val_accuracy: 0.0000e+00\n",
            "Epoch 8/100\n",
            "27/27 [==============================] - 0s 4ms/step - loss: 0.5745 - accuracy: 0.0023 - val_loss: 0.6102 - val_accuracy: 0.0000e+00\n",
            "Epoch 9/100\n",
            "27/27 [==============================] - 0s 3ms/step - loss: 0.5739 - accuracy: 0.0023 - val_loss: 0.6103 - val_accuracy: 0.0000e+00\n",
            "Epoch 10/100\n",
            "27/27 [==============================] - 0s 3ms/step - loss: 0.5732 - accuracy: 0.0023 - val_loss: 0.6106 - val_accuracy: 0.0000e+00\n",
            "Epoch 11/100\n",
            "27/27 [==============================] - 0s 3ms/step - loss: 0.5726 - accuracy: 0.0023 - val_loss: 0.6098 - val_accuracy: 0.0000e+00\n",
            "Epoch 12/100\n",
            "27/27 [==============================] - 0s 4ms/step - loss: 0.5724 - accuracy: 0.0023 - val_loss: 0.6088 - val_accuracy: 0.0000e+00\n",
            "Epoch 13/100\n",
            "27/27 [==============================] - 0s 3ms/step - loss: 0.5719 - accuracy: 0.0023 - val_loss: 0.6104 - val_accuracy: 0.0000e+00\n",
            "Epoch 14/100\n",
            "27/27 [==============================] - 0s 4ms/step - loss: 0.5715 - accuracy: 0.0023 - val_loss: 0.6096 - val_accuracy: 0.0000e+00\n",
            "Epoch 15/100\n",
            "27/27 [==============================] - 0s 3ms/step - loss: 0.5712 - accuracy: 0.0023 - val_loss: 0.6094 - val_accuracy: 0.0000e+00\n",
            "Epoch 16/100\n",
            "27/27 [==============================] - 0s 3ms/step - loss: 0.5711 - accuracy: 0.0023 - val_loss: 0.6088 - val_accuracy: 0.0000e+00\n",
            "Epoch 17/100\n",
            "27/27 [==============================] - 0s 3ms/step - loss: 0.5707 - accuracy: 0.0023 - val_loss: 0.6091 - val_accuracy: 0.0000e+00\n",
            "Epoch 18/100\n",
            "27/27 [==============================] - 0s 4ms/step - loss: 0.5707 - accuracy: 0.0023 - val_loss: 0.6084 - val_accuracy: 0.0000e+00\n",
            "Epoch 19/100\n",
            "27/27 [==============================] - 0s 3ms/step - loss: 0.5704 - accuracy: 0.0023 - val_loss: 0.6109 - val_accuracy: 0.0000e+00\n",
            "Epoch 20/100\n",
            "27/27 [==============================] - 0s 4ms/step - loss: 0.5699 - accuracy: 0.0023 - val_loss: 0.6100 - val_accuracy: 0.0000e+00\n",
            "Epoch 21/100\n",
            "27/27 [==============================] - 0s 3ms/step - loss: 0.5695 - accuracy: 0.0023 - val_loss: 0.6084 - val_accuracy: 0.0000e+00\n",
            "Epoch 22/100\n",
            "27/27 [==============================] - 0s 3ms/step - loss: 0.5694 - accuracy: 0.0023 - val_loss: 0.6096 - val_accuracy: 0.0000e+00\n",
            "Epoch 23/100\n",
            "27/27 [==============================] - 0s 4ms/step - loss: 0.5697 - accuracy: 0.0023 - val_loss: 0.6081 - val_accuracy: 0.0000e+00\n",
            "Epoch 24/100\n",
            "27/27 [==============================] - 0s 4ms/step - loss: 0.5694 - accuracy: 0.0023 - val_loss: 0.6095 - val_accuracy: 0.0000e+00\n",
            "Epoch 25/100\n",
            "27/27 [==============================] - 0s 3ms/step - loss: 0.5693 - accuracy: 0.0023 - val_loss: 0.6094 - val_accuracy: 0.0000e+00\n",
            "Epoch 26/100\n",
            "27/27 [==============================] - 0s 3ms/step - loss: 0.5691 - accuracy: 0.0023 - val_loss: 0.6091 - val_accuracy: 0.0000e+00\n",
            "Epoch 27/100\n",
            "27/27 [==============================] - 0s 3ms/step - loss: 0.5689 - accuracy: 0.0023 - val_loss: 0.6090 - val_accuracy: 0.0000e+00\n",
            "Epoch 28/100\n",
            "27/27 [==============================] - 0s 4ms/step - loss: 0.5687 - accuracy: 0.0023 - val_loss: 0.6115 - val_accuracy: 0.0000e+00\n",
            "Epoch 29/100\n",
            "27/27 [==============================] - 0s 3ms/step - loss: 0.5684 - accuracy: 0.0023 - val_loss: 0.6092 - val_accuracy: 0.0000e+00\n",
            "Epoch 30/100\n",
            "27/27 [==============================] - 0s 4ms/step - loss: 0.5681 - accuracy: 0.0023 - val_loss: 0.6089 - val_accuracy: 0.0000e+00\n",
            "Epoch 31/100\n",
            "27/27 [==============================] - 0s 3ms/step - loss: 0.5683 - accuracy: 0.0023 - val_loss: 0.6090 - val_accuracy: 0.0000e+00\n",
            "Epoch 32/100\n",
            "27/27 [==============================] - 0s 3ms/step - loss: 0.5678 - accuracy: 0.0023 - val_loss: 0.6103 - val_accuracy: 0.0000e+00\n",
            "Epoch 33/100\n",
            "27/27 [==============================] - 0s 4ms/step - loss: 0.5678 - accuracy: 0.0023 - val_loss: 0.6096 - val_accuracy: 0.0000e+00\n",
            "Epoch 34/100\n",
            "27/27 [==============================] - 0s 3ms/step - loss: 0.5678 - accuracy: 0.0023 - val_loss: 0.6075 - val_accuracy: 0.0000e+00\n",
            "Epoch 35/100\n",
            "27/27 [==============================] - 0s 3ms/step - loss: 0.5677 - accuracy: 0.0023 - val_loss: 0.6106 - val_accuracy: 0.0000e+00\n",
            "Epoch 36/100\n",
            "27/27 [==============================] - 0s 3ms/step - loss: 0.5676 - accuracy: 0.0023 - val_loss: 0.6080 - val_accuracy: 0.0000e+00\n",
            "Epoch 37/100\n",
            "27/27 [==============================] - 0s 3ms/step - loss: 0.5672 - accuracy: 0.0023 - val_loss: 0.6100 - val_accuracy: 0.0000e+00\n",
            "Epoch 38/100\n",
            "27/27 [==============================] - 0s 4ms/step - loss: 0.5673 - accuracy: 0.0023 - val_loss: 0.6077 - val_accuracy: 0.0000e+00\n",
            "Epoch 39/100\n",
            "27/27 [==============================] - 0s 3ms/step - loss: 0.5672 - accuracy: 0.0023 - val_loss: 0.6096 - val_accuracy: 0.0000e+00\n",
            "Epoch 40/100\n",
            "27/27 [==============================] - 0s 4ms/step - loss: 0.5671 - accuracy: 0.0023 - val_loss: 0.6083 - val_accuracy: 0.0000e+00\n",
            "Epoch 41/100\n",
            "27/27 [==============================] - 0s 4ms/step - loss: 0.5669 - accuracy: 0.0023 - val_loss: 0.6092 - val_accuracy: 0.0000e+00\n",
            "Epoch 42/100\n",
            "27/27 [==============================] - 0s 3ms/step - loss: 0.5668 - accuracy: 0.0023 - val_loss: 0.6093 - val_accuracy: 0.0000e+00\n",
            "Epoch 43/100\n",
            "27/27 [==============================] - 0s 3ms/step - loss: 0.5666 - accuracy: 0.0023 - val_loss: 0.6078 - val_accuracy: 0.0000e+00\n",
            "Epoch 44/100\n",
            "27/27 [==============================] - 0s 3ms/step - loss: 0.5669 - accuracy: 0.0023 - val_loss: 0.6131 - val_accuracy: 0.0000e+00\n",
            "Epoch 45/100\n",
            "27/27 [==============================] - 0s 3ms/step - loss: 0.5665 - accuracy: 0.0023 - val_loss: 0.6083 - val_accuracy: 0.0000e+00\n",
            "Epoch 46/100\n",
            "27/27 [==============================] - 0s 3ms/step - loss: 0.5661 - accuracy: 0.0023 - val_loss: 0.6087 - val_accuracy: 0.0000e+00\n",
            "Epoch 47/100\n",
            "27/27 [==============================] - 0s 3ms/step - loss: 0.5661 - accuracy: 0.0023 - val_loss: 0.6096 - val_accuracy: 0.0000e+00\n",
            "Epoch 48/100\n",
            "27/27 [==============================] - 0s 4ms/step - loss: 0.5660 - accuracy: 0.0023 - val_loss: 0.6085 - val_accuracy: 0.0000e+00\n",
            "Epoch 49/100\n",
            "27/27 [==============================] - 0s 4ms/step - loss: 0.5657 - accuracy: 0.0023 - val_loss: 0.6083 - val_accuracy: 0.0000e+00\n",
            "Epoch 50/100\n",
            "27/27 [==============================] - 0s 3ms/step - loss: 0.5657 - accuracy: 0.0023 - val_loss: 0.6088 - val_accuracy: 0.0000e+00\n",
            "Epoch 51/100\n",
            "27/27 [==============================] - 0s 3ms/step - loss: 0.5654 - accuracy: 0.0023 - val_loss: 0.6090 - val_accuracy: 0.0000e+00\n",
            "Epoch 52/100\n",
            "27/27 [==============================] - 0s 3ms/step - loss: 0.5654 - accuracy: 0.0023 - val_loss: 0.6087 - val_accuracy: 0.0000e+00\n",
            "Epoch 53/100\n",
            "27/27 [==============================] - 0s 3ms/step - loss: 0.5652 - accuracy: 0.0023 - val_loss: 0.6080 - val_accuracy: 0.0000e+00\n",
            "Epoch 54/100\n",
            "27/27 [==============================] - 0s 3ms/step - loss: 0.5653 - accuracy: 0.0023 - val_loss: 0.6067 - val_accuracy: 0.0000e+00\n",
            "Epoch 55/100\n",
            "27/27 [==============================] - 0s 4ms/step - loss: 0.5651 - accuracy: 0.0023 - val_loss: 0.6100 - val_accuracy: 0.0000e+00\n",
            "Epoch 56/100\n",
            "27/27 [==============================] - 0s 3ms/step - loss: 0.5646 - accuracy: 0.0023 - val_loss: 0.6071 - val_accuracy: 0.0000e+00\n",
            "Epoch 57/100\n",
            "27/27 [==============================] - 0s 4ms/step - loss: 0.5651 - accuracy: 0.0023 - val_loss: 0.6083 - val_accuracy: 0.0000e+00\n",
            "Epoch 58/100\n",
            "27/27 [==============================] - 0s 4ms/step - loss: 0.5644 - accuracy: 0.0023 - val_loss: 0.6062 - val_accuracy: 0.0000e+00\n",
            "Epoch 59/100\n",
            "27/27 [==============================] - 0s 3ms/step - loss: 0.5643 - accuracy: 0.0023 - val_loss: 0.6097 - val_accuracy: 0.0000e+00\n",
            "Epoch 60/100\n",
            "27/27 [==============================] - 0s 3ms/step - loss: 0.5645 - accuracy: 0.0023 - val_loss: 0.6096 - val_accuracy: 0.0000e+00\n",
            "Epoch 61/100\n",
            "27/27 [==============================] - 0s 3ms/step - loss: 0.5640 - accuracy: 0.0023 - val_loss: 0.6074 - val_accuracy: 0.0000e+00\n",
            "Epoch 62/100\n",
            "27/27 [==============================] - 0s 4ms/step - loss: 0.5641 - accuracy: 0.0023 - val_loss: 0.6077 - val_accuracy: 0.0000e+00\n",
            "Epoch 63/100\n",
            "27/27 [==============================] - 0s 3ms/step - loss: 0.5642 - accuracy: 0.0023 - val_loss: 0.6073 - val_accuracy: 0.0000e+00\n",
            "Epoch 64/100\n",
            "27/27 [==============================] - 0s 4ms/step - loss: 0.5639 - accuracy: 0.0023 - val_loss: 0.6088 - val_accuracy: 0.0000e+00\n",
            "Epoch 65/100\n",
            "27/27 [==============================] - 0s 4ms/step - loss: 0.5632 - accuracy: 0.0023 - val_loss: 0.6077 - val_accuracy: 0.0000e+00\n",
            "Epoch 66/100\n",
            "27/27 [==============================] - 0s 3ms/step - loss: 0.5635 - accuracy: 0.0023 - val_loss: 0.6094 - val_accuracy: 0.0000e+00\n",
            "Epoch 67/100\n",
            "27/27 [==============================] - 0s 4ms/step - loss: 0.5632 - accuracy: 0.0023 - val_loss: 0.6075 - val_accuracy: 0.0000e+00\n",
            "Epoch 68/100\n",
            "27/27 [==============================] - 0s 3ms/step - loss: 0.5629 - accuracy: 0.0023 - val_loss: 0.6075 - val_accuracy: 0.0000e+00\n",
            "Epoch 69/100\n",
            "27/27 [==============================] - 0s 4ms/step - loss: 0.5626 - accuracy: 0.0023 - val_loss: 0.6084 - val_accuracy: 0.0000e+00\n",
            "Epoch 70/100\n",
            "27/27 [==============================] - 0s 4ms/step - loss: 0.5626 - accuracy: 0.0023 - val_loss: 0.6072 - val_accuracy: 0.0000e+00\n",
            "Epoch 71/100\n",
            "27/27 [==============================] - 0s 4ms/step - loss: 0.5626 - accuracy: 0.0023 - val_loss: 0.6071 - val_accuracy: 0.0000e+00\n",
            "Epoch 72/100\n",
            "27/27 [==============================] - 0s 3ms/step - loss: 0.5623 - accuracy: 0.0023 - val_loss: 0.6070 - val_accuracy: 0.0000e+00\n",
            "Epoch 73/100\n",
            "27/27 [==============================] - 0s 3ms/step - loss: 0.5621 - accuracy: 0.0023 - val_loss: 0.6095 - val_accuracy: 0.0000e+00\n",
            "Epoch 74/100\n",
            "27/27 [==============================] - 0s 5ms/step - loss: 0.5621 - accuracy: 0.0023 - val_loss: 0.6075 - val_accuracy: 0.0000e+00\n",
            "Epoch 75/100\n",
            "27/27 [==============================] - 0s 5ms/step - loss: 0.5618 - accuracy: 0.0023 - val_loss: 0.6059 - val_accuracy: 0.0000e+00\n",
            "Epoch 76/100\n",
            "27/27 [==============================] - 0s 5ms/step - loss: 0.5613 - accuracy: 0.0023 - val_loss: 0.6088 - val_accuracy: 0.0000e+00\n",
            "Epoch 77/100\n",
            "27/27 [==============================] - 0s 5ms/step - loss: 0.5612 - accuracy: 0.0023 - val_loss: 0.6066 - val_accuracy: 0.0000e+00\n",
            "Epoch 78/100\n",
            "27/27 [==============================] - 0s 5ms/step - loss: 0.5613 - accuracy: 0.0023 - val_loss: 0.6068 - val_accuracy: 0.0000e+00\n",
            "Epoch 79/100\n",
            "27/27 [==============================] - 0s 4ms/step - loss: 0.5610 - accuracy: 0.0023 - val_loss: 0.6083 - val_accuracy: 0.0000e+00\n",
            "Epoch 80/100\n",
            "27/27 [==============================] - 0s 4ms/step - loss: 0.5617 - accuracy: 0.0023 - val_loss: 0.6079 - val_accuracy: 0.0000e+00\n",
            "Epoch 81/100\n",
            "27/27 [==============================] - 0s 4ms/step - loss: 0.5610 - accuracy: 0.0023 - val_loss: 0.6065 - val_accuracy: 0.0000e+00\n",
            "Epoch 82/100\n",
            "27/27 [==============================] - 0s 5ms/step - loss: 0.5609 - accuracy: 0.0023 - val_loss: 0.6106 - val_accuracy: 0.0000e+00\n",
            "Epoch 83/100\n",
            "27/27 [==============================] - 0s 6ms/step - loss: 0.5609 - accuracy: 0.0023 - val_loss: 0.6065 - val_accuracy: 0.0000e+00\n",
            "Epoch 84/100\n",
            "27/27 [==============================] - 0s 5ms/step - loss: 0.5603 - accuracy: 0.0023 - val_loss: 0.6072 - val_accuracy: 0.0000e+00\n",
            "Epoch 85/100\n",
            "27/27 [==============================] - 0s 5ms/step - loss: 0.5605 - accuracy: 0.0023 - val_loss: 0.6061 - val_accuracy: 0.0000e+00\n",
            "Epoch 86/100\n",
            "27/27 [==============================] - 0s 5ms/step - loss: 0.5605 - accuracy: 0.0023 - val_loss: 0.6077 - val_accuracy: 0.0000e+00\n",
            "Epoch 87/100\n",
            "27/27 [==============================] - 0s 5ms/step - loss: 0.5600 - accuracy: 0.0023 - val_loss: 0.6077 - val_accuracy: 0.0000e+00\n",
            "Epoch 88/100\n",
            "27/27 [==============================] - 0s 5ms/step - loss: 0.5597 - accuracy: 0.0023 - val_loss: 0.6073 - val_accuracy: 0.0000e+00\n",
            "Epoch 89/100\n",
            "27/27 [==============================] - 0s 5ms/step - loss: 0.5597 - accuracy: 0.0023 - val_loss: 0.6086 - val_accuracy: 0.0000e+00\n",
            "Epoch 90/100\n",
            "27/27 [==============================] - 0s 5ms/step - loss: 0.5593 - accuracy: 0.0023 - val_loss: 0.6078 - val_accuracy: 0.0000e+00\n",
            "Epoch 91/100\n",
            "27/27 [==============================] - 0s 4ms/step - loss: 0.5596 - accuracy: 0.0023 - val_loss: 0.6080 - val_accuracy: 0.0000e+00\n",
            "Epoch 92/100\n",
            "27/27 [==============================] - 0s 5ms/step - loss: 0.5594 - accuracy: 0.0023 - val_loss: 0.6051 - val_accuracy: 0.0000e+00\n",
            "Epoch 93/100\n",
            "27/27 [==============================] - 0s 5ms/step - loss: 0.5597 - accuracy: 0.0023 - val_loss: 0.6058 - val_accuracy: 0.0000e+00\n",
            "Epoch 94/100\n",
            "27/27 [==============================] - 0s 5ms/step - loss: 0.5590 - accuracy: 0.0023 - val_loss: 0.6084 - val_accuracy: 0.0000e+00\n",
            "Epoch 95/100\n",
            "27/27 [==============================] - 0s 5ms/step - loss: 0.5588 - accuracy: 0.0023 - val_loss: 0.6070 - val_accuracy: 0.0000e+00\n",
            "Epoch 96/100\n",
            "27/27 [==============================] - 0s 5ms/step - loss: 0.5587 - accuracy: 0.0023 - val_loss: 0.6072 - val_accuracy: 0.0000e+00\n",
            "Epoch 97/100\n",
            "27/27 [==============================] - 0s 5ms/step - loss: 0.5583 - accuracy: 0.0023 - val_loss: 0.6078 - val_accuracy: 0.0000e+00\n",
            "Epoch 98/100\n",
            "27/27 [==============================] - 0s 5ms/step - loss: 0.5583 - accuracy: 0.0023 - val_loss: 0.6090 - val_accuracy: 0.0000e+00\n",
            "Epoch 99/100\n",
            "27/27 [==============================] - 0s 5ms/step - loss: 0.5587 - accuracy: 0.0023 - val_loss: 0.6053 - val_accuracy: 0.0000e+00\n",
            "Epoch 100/100\n",
            "27/27 [==============================] - 0s 6ms/step - loss: 0.5585 - accuracy: 0.0023 - val_loss: 0.6076 - val_accuracy: 0.0000e+00\n"
          ]
        }
      ]
    },
    {
      "cell_type": "code",
      "source": [
        "# Create a DataFrame containing training history\n",
        "history_df = pd.DataFrame(fit_model.history)\n",
        "\n",
        "# Increase the index by 1 to match the number of epochs\n",
        "history_df.index += 1\n",
        "\n",
        "# Plot the loss\n",
        "history_df.plot(y=\"loss\")"
      ],
      "metadata": {
        "id": "i_TweKlOggc5",
        "outputId": "29d1da39-6b76-4f67-87b9-69126b8cb6cc",
        "colab": {
          "base_uri": "https://localhost:8080/",
          "height": 448
        }
      },
      "execution_count": 20,
      "outputs": [
        {
          "output_type": "execute_result",
          "data": {
            "text/plain": [
              "<Axes: >"
            ]
          },
          "metadata": {},
          "execution_count": 20
        },
        {
          "output_type": "display_data",
          "data": {
            "text/plain": [
              "<Figure size 640x480 with 1 Axes>"
            ],
            "image/png": "[encoded data removed]"
          },
          "metadata": {}
        }
      ]
    },
    {
      "cell_type": "code",
      "source": [
        "# Plot the accuracy\n",
        "history_df.plot(y=\"accuracy\")"
      ],
      "metadata": {
        "id": "WgwMw0vAgsDQ",
        "outputId": "003d341a-a49a-484a-9bc3-6f1c96e34b02",
        "colab": {
          "base_uri": "https://localhost:8080/",
          "height": 448
        }
      },
      "execution_count": 21,
      "outputs": [
        {
          "output_type": "execute_result",
          "data": {
            "text/plain": [
              "<Axes: >"
            ]
          },
          "metadata": {},
          "execution_count": 21
        },
        {
          "output_type": "display_data",
          "data": {
            "text/plain": [
              "<Figure size 640x480 with 1 Axes>"
            ],
            "image/png": "[encoded data removed]"
          },
          "metadata": {}
        }
      ]
    },
    {
      "cell_type": "code",
      "source": [
        "# Evaluate the model using the test data\n",
        "model_loss, model_accuracy = nn.evaluate(X_test_scaled,y_test,verbose=2)\n",
        "print(f\"Loss: {model_loss}, Accuracy: {model_accuracy}\")"
      ],
      "metadata": {
        "id": "6PDvilEIgsAX",
        "outputId": "10d16ef6-55e0-4812-9bde-30d62153d8d3",
        "colab": {
          "base_uri": "https://localhost:8080/"
        }
      },
      "execution_count": 22,
      "outputs": [
        {
          "output_type": "stream",
          "name": "stdout",
          "text": [
            "11/11 - 0s - loss: 0.5815 - accuracy: 0.0029 - 37ms/epoch - 3ms/step\n",
            "Loss: 0.5814724564552307, Accuracy: 0.0029498524963855743\n"
          ]
        }
      ]
    },
    {
      "cell_type": "code",
      "source": [],
      "metadata": {
        "id": "tY31_-RSgr8a"
      },
      "execution_count": null,
      "outputs": []
    }
  ],
  "metadata": {
    "colab": {
      "provenance": []
    },
    "kernelspec": {
      "display_name": "Python 3 (ipykernel)",
      "language": "python",
      "name": "python3"
    },
    "language_info": {
      "codemirror_mode": {
        "name": "ipython",
        "version": 3
      },
      "file_extension": ".py",
      "mimetype": "text/x-python",
      "name": "python",
      "nbconvert_exporter": "python",
      "pygments_lexer": "ipython3",
      "version": "3.10.4"
    }
  },
  "nbformat": 4,
  "nbformat_minor": 0
}